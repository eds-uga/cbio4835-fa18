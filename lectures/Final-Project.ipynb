{
 "cells": [
  {
   "cell_type": "markdown",
   "metadata": {
    "slideshow": {
     "slide_type": "slide"
    }
   },
   "source": [
    "# Final Project\n",
    "\n",
    "CBIO (CSCI) 4835/6835: Introduction to Computational Biology"
   ]
  },
  {
   "cell_type": "markdown",
   "metadata": {
    "slideshow": {
     "slide_type": "slide"
    }
   },
   "source": [
    "This is an opportunity for you to combine a problem in biology you find interesting with some of the concepts you've learned in CBIO 4835/6835.\n",
    "\n",
    "Put another way, it's an opportunity for you to inflict pain and suffering on your instructor!\n",
    "\n",
    "Ideally you will come up with something related to your own research or interests that includes real data, but if you need project ideas I can provide them. You may use any Python packages as long as they can be installed with a package manager (pip or conda)."
   ]
  },
  {
   "cell_type": "markdown",
   "metadata": {
    "slideshow": {
     "slide_type": "fragment"
    }
   },
   "source": [
    "You are required to provide:"
   ]
  },
  {
   "cell_type": "markdown",
   "metadata": {},
   "source": [
    " - A writeup with sufficient detail for a student to understand and implement the assignment in a common word processing format (Word, HTML, LaTeX, Jupyter notebook).\n",
    " - The python code to the solution. The solution should require 20-100 lines of code.\n",
    " - At least three example inputs including the necessary commandline to get the output. Make sure it is okay to publicly release the data and include any appropriate acknowledgements/citations."
   ]
  },
  {
   "cell_type": "markdown",
   "metadata": {
    "slideshow": {
     "slide_type": "slide"
    }
   },
   "source": [
    "### Some General Guidelines"
   ]
  },
  {
   "cell_type": "markdown",
   "metadata": {
    "slideshow": {
     "slide_type": "fragment"
    }
   },
   "source": [
    "You are allowed to work either individually or in pairs. Be aware that if you work with a partner, you will both receive the same grade and your team will be expected to accomplish more than if you were working alone."
   ]
  },
  {
   "cell_type": "markdown",
   "metadata": {
    "slideshow": {
     "slide_type": "fragment"
    }
   },
   "source": [
    "The amount of work should be around 1 to 1.5 homework assignments; for 2 people, this would obviously double. That said, don't overextend yourselves!"
   ]
  },
  {
   "cell_type": "markdown",
   "metadata": {
    "slideshow": {
     "slide_type": "fragment"
    }
   },
   "source": [
    "You may not 'recycle' papers or reports that you wrote for some other class or as part of a research project."
   ]
  },
  {
   "cell_type": "markdown",
   "metadata": {
    "slideshow": {
     "slide_type": "fragment"
    }
   },
   "source": [
    "A project is **required for students in 6835**, but **optional for students in 4835**. Anyone who does the project is exempt from Assignment 6, and students in 4835 can do the project for extra credit!"
   ]
  },
  {
   "cell_type": "markdown",
   "metadata": {
    "slideshow": {
     "slide_type": "slide"
    }
   },
   "source": [
    "There are **three components** to the final project; they are as follows."
   ]
  },
  {
   "cell_type": "markdown",
   "metadata": {
    "slideshow": {
     "slide_type": "slide"
    }
   },
   "source": [
    "### 1: Proposal\n",
    " \n",
    "**Due Friday, October 26 at 11:59pm**"
   ]
  },
  {
   "cell_type": "markdown",
   "metadata": {},
   "source": [
    "Proposals should be no more than 1 page (not including references) and should contain the following:\n",
    "\n",
    " - **Background**. Introduction that describes the biological context of your question and any previous work.\n",
    " - **Goal**. A succinct state of the question that you will address and how you will use computational tools to address it.\n",
    " - **Approach**. Description of what work you will perform and what tools you will use. Be as specific as possible here.  Think in terms of the figures that you might obtain as results.\n",
    " - **Assessment**. Describe how you can verify / validate your results. How would you convince someone that they are correct? What does \"victory\" look like for your project? This may entail envisioning possible pitfalls or failure modes of your project.\n",
    " - **References**. Provide references to all papers that are providing, background, models, or data that you are using for your project."
   ]
  },
  {
   "cell_type": "markdown",
   "metadata": {
    "slideshow": {
     "slide_type": "slide"
    }
   },
   "source": [
    "### 2: Presentation\n",
    "\n",
    "**Tuesday, November 27** "
   ]
  },
  {
   "cell_type": "markdown",
   "metadata": {},
   "source": [
    "The presentation should be about 10-15 minutes (followed by 3-5 minutes of questions) per project.\n",
    "\n",
    "(this may vary depending on how many presentations we have, but aim for the 15-minute mark)\n",
    "\n",
    "They should accurately summarize the problem and its background as put forth in your proposal, as well as demonstrate the progress you have made.\n",
    "\n",
    "Your project doesn't have to be 100% complete. **But DO NOT misconstrue this--it should be AT LEAST 70-80% finished**. Maybe you're waiting on one more experiment, but the bulk of the work should be finished at this point."
   ]
  },
  {
   "cell_type": "markdown",
   "metadata": {
    "slideshow": {
     "slide_type": "slide"
    }
   },
   "source": [
    "### 3: Write-up\n",
    "\n",
    "**Due Thursday, December 6 at 11:59pm**"
   ]
  },
  {
   "cell_type": "markdown",
   "metadata": {},
   "source": [
    "This is the write-up alluded to at the beginning. It can take any readable format you'd like (e.g. Word, Jupyter notebook) but should be **readable** and **understandable** to fellow students.\n",
    "\n",
    "You don't have to follow this structure exactly, but a fail-safe organizational strategy would involve:"
   ]
  },
  {
   "cell_type": "markdown",
   "metadata": {},
   "source": [
    " - **Introduction**: Here is where you will establish what questions you are asking and why they are important. You will state concretely the objectives of your work. You will also provide sufficient background that a general scientific reader can understand what you are doing and why. \n",
    " - **Related Work**: You will describe briefly and give relevant citations to other work that addresses the specific systems and mechanisms you are investigating. If you are building on an existing model, you should cite that model and give a brief description here, or possibly in the Introduction.\n",
    " - **Methods**: You will describe the methods, code, and software that you used to develop the model and simulations results you are presenting.\n",
    " - **Results**: Here you will describe the results of your simulations and other analyses. If you developed a new model you can also describe the content of that model in the first section of Results (you would describe the code and software though in Methods). For example, if you developed an ODE model using SciPy, you would briefly mention and cite SciPy and ODE's in the Methods section, but present the actual model--species and reactions--in the Results section.\n",
    " - **Discussion**: Discuss and interpret your findings, paying particular attention to any results that you think may be incorrect with an explanation of what you think might have gone wrong and how you would fix it going forward. \n",
    " - **Conclusions and Future Work**: Summarize and state whether you did or did not achieve the initial goals of the project.\n",
    " - **References**: Be sure to include complete list of authors and the title of the paper."
   ]
  },
  {
   "cell_type": "markdown",
   "metadata": {},
   "source": [
    "You should also include any code or data; if you want to use GitHub to store your code (where [all the materials for this course](https://github.com/eds-uga/cbio4835-fa18) are hosted), please let me know and I will create a repository for you."
   ]
  },
  {
   "cell_type": "markdown",
   "metadata": {
    "slideshow": {
     "slide_type": "slide"
    }
   },
   "source": [
    "### Some [potential] Project Titles"
   ]
  },
  {
   "cell_type": "markdown",
   "metadata": {},
   "source": [
    " - Agent-based Modeling of the Zombie Apocalypse\n",
    " - Multiple sequence alignment for predicting structure from sequence\n",
    " - A Network Approach to Global Scale Epidemic Spreading - Ebola Case Study\n",
    " - Analysis of the kinetics of Influenza A infections in humans via mathematical modeling\n",
    " - Automated cell counting and tracking\n",
    " - Simulating evolution of yeast pheromone signaling pathway\n",
    " - Modeling of rapid activation of an apoptosis pathway in response to DNA damage\n",
    " - Pharmacological analysis of a dynamic apoptosis-autophagy model"
   ]
  },
  {
   "cell_type": "markdown",
   "metadata": {
    "slideshow": {
     "slide_type": "slide"
    }
   },
   "source": [
    "### Some Starting Points\n",
    "\n",
    " - Nature, Science, PLOS Biology\n",
    " - Cell\n",
    " - Molecular Systems Biology, Science Signaling, Nature Systems Biology\n",
    " - PLOS Computational Biology\n",
    " - Biophysical Journal\n",
    " - Interface\n",
    " - Molecular Biosystems\n",
    " - BMC Systems Biology\n",
    " - PLOS One\n",
    " - arxiv.org/q-bio (A lot of interesting work appears here in preprint form)"
   ]
  },
  {
   "cell_type": "markdown",
   "metadata": {
    "slideshow": {
     "slide_type": "slide"
    }
   },
   "source": [
    "### A final note on \"success\""
   ]
  },
  {
   "cell_type": "markdown",
   "metadata": {},
   "source": [
    "tl;dr: **It is 100% acceptable if your project does not pan out.**"
   ]
  },
  {
   "cell_type": "markdown",
   "metadata": {},
   "source": [
    "What matters to me is your _process_: you demonstrated an understanding of the problem, a good grasp on how a computational approach might help, and you executed it as best you could."
   ]
  },
  {
   "cell_type": "markdown",
   "metadata": {},
   "source": [
    "Maybe the effect you were hoping for just wasn't there. **That is completely OK!** I just want to see that you have an idea of how you could incorporate some of what you've learned in this class into a real-world research problem."
   ]
  },
  {
   "cell_type": "markdown",
   "metadata": {
    "slideshow": {
     "slide_type": "slide"
    }
   },
   "source": [
    "### Questions?\n",
    "\n",
    "Post in the Slack `#questions` channel!"
   ]
  }
 ],
 "metadata": {
  "anaconda-cloud": {},
  "celltoolbar": "Slideshow",
  "kernelspec": {
   "display_name": "Python 3",
   "language": "python",
   "name": "python3"
  },
  "language_info": {
   "codemirror_mode": {
    "name": "ipython",
    "version": 3
   },
   "file_extension": ".py",
   "mimetype": "text/x-python",
   "name": "python",
   "nbconvert_exporter": "python",
   "pygments_lexer": "ipython3",
   "version": "3.6.6"
  }
 },
 "nbformat": 4,
 "nbformat_minor": 1
}
